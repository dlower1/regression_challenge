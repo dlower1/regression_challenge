{
 "cells": [
  {
   "cell_type": "code",
   "execution_count": 1,
   "metadata": {},
   "outputs": [],
   "source": [
    "import numpy as np\n",
    "import pandas as pd\n",
    "import seaborn as sns\n",
    "import matplotlib.pyplot as plt\n",
    "from sklearn.preprocessing import StandardScaler\n",
    "from sklearn.linear_model import ElasticNet, Lasso\n",
    "from sklearn.model_selection import RandomizedSearchCV\n",
    "\n",
    "%matplotlib inline"
   ]
  },
  {
   "cell_type": "code",
   "execution_count": 2,
   "metadata": {},
   "outputs": [],
   "source": [
    "train_csv = './datasets/given/train.csv'\n",
    "test_csv = './datasets/given/test.csv'\n",
    "\n",
    "train_ames = pd.read_csv(train_csv)\n",
    "test_ames = pd.read_csv(test_csv)"
   ]
  },
  {
   "cell_type": "code",
   "execution_count": 3,
   "metadata": {},
   "outputs": [
    {
     "name": "stdout",
     "output_type": "stream",
     "text": [
      "(879, 79)\n",
      "(2051, 81)\n"
     ]
    }
   ],
   "source": [
    "print test_ames.shape\n",
    "print train_ames.shape"
   ]
  },
  {
   "cell_type": "code",
   "execution_count": 4,
   "metadata": {},
   "outputs": [
    {
     "data": {
      "text/html": [
       "<div>\n",
       "<style scoped>\n",
       "    .dataframe tbody tr th:only-of-type {\n",
       "        vertical-align: middle;\n",
       "    }\n",
       "\n",
       "    .dataframe tbody tr th {\n",
       "        vertical-align: top;\n",
       "    }\n",
       "\n",
       "    .dataframe thead th {\n",
       "        text-align: right;\n",
       "    }\n",
       "</style>\n",
       "<table border=\"1\" class=\"dataframe\">\n",
       "  <thead>\n",
       "    <tr style=\"text-align: right;\">\n",
       "      <th></th>\n",
       "      <th>PID</th>\n",
       "      <th>MSSubClass</th>\n",
       "      <th>MSZoning</th>\n",
       "      <th>LotFrontage</th>\n",
       "      <th>LotArea</th>\n",
       "      <th>Street</th>\n",
       "      <th>Alley</th>\n",
       "      <th>LotShape</th>\n",
       "      <th>LandContour</th>\n",
       "      <th>Utilities</th>\n",
       "      <th>...</th>\n",
       "      <th>PoolArea</th>\n",
       "      <th>PoolQC</th>\n",
       "      <th>Fence</th>\n",
       "      <th>MiscFeature</th>\n",
       "      <th>MiscVal</th>\n",
       "      <th>MoSold</th>\n",
       "      <th>YrSold</th>\n",
       "      <th>SaleType</th>\n",
       "      <th>SaleCondition</th>\n",
       "      <th>SalePrice</th>\n",
       "    </tr>\n",
       "  </thead>\n",
       "  <tbody>\n",
       "    <tr>\n",
       "      <th>0</th>\n",
       "      <td>528120170</td>\n",
       "      <td>20</td>\n",
       "      <td>RL</td>\n",
       "      <td>77.0</td>\n",
       "      <td>10872</td>\n",
       "      <td>Pave</td>\n",
       "      <td>NaN</td>\n",
       "      <td>IR1</td>\n",
       "      <td>Lvl</td>\n",
       "      <td>AllPub</td>\n",
       "      <td>...</td>\n",
       "      <td>0</td>\n",
       "      <td>NaN</td>\n",
       "      <td>NaN</td>\n",
       "      <td>NaN</td>\n",
       "      <td>0</td>\n",
       "      <td>2</td>\n",
       "      <td>2009</td>\n",
       "      <td>WD</td>\n",
       "      <td>Normal</td>\n",
       "      <td>300000</td>\n",
       "    </tr>\n",
       "    <tr>\n",
       "      <th>1</th>\n",
       "      <td>535179060</td>\n",
       "      <td>20</td>\n",
       "      <td>RL</td>\n",
       "      <td>80.0</td>\n",
       "      <td>11900</td>\n",
       "      <td>Pave</td>\n",
       "      <td>NaN</td>\n",
       "      <td>IR1</td>\n",
       "      <td>Lvl</td>\n",
       "      <td>AllPub</td>\n",
       "      <td>...</td>\n",
       "      <td>0</td>\n",
       "      <td>NaN</td>\n",
       "      <td>NaN</td>\n",
       "      <td>NaN</td>\n",
       "      <td>0</td>\n",
       "      <td>6</td>\n",
       "      <td>2008</td>\n",
       "      <td>WD</td>\n",
       "      <td>Normal</td>\n",
       "      <td>166000</td>\n",
       "    </tr>\n",
       "    <tr>\n",
       "      <th>2</th>\n",
       "      <td>528138030</td>\n",
       "      <td>60</td>\n",
       "      <td>RL</td>\n",
       "      <td>85.0</td>\n",
       "      <td>11924</td>\n",
       "      <td>Pave</td>\n",
       "      <td>NaN</td>\n",
       "      <td>IR1</td>\n",
       "      <td>Lvl</td>\n",
       "      <td>AllPub</td>\n",
       "      <td>...</td>\n",
       "      <td>0</td>\n",
       "      <td>NaN</td>\n",
       "      <td>NaN</td>\n",
       "      <td>NaN</td>\n",
       "      <td>0</td>\n",
       "      <td>7</td>\n",
       "      <td>2006</td>\n",
       "      <td>New</td>\n",
       "      <td>Partial</td>\n",
       "      <td>345000</td>\n",
       "    </tr>\n",
       "    <tr>\n",
       "      <th>3</th>\n",
       "      <td>526355170</td>\n",
       "      <td>20</td>\n",
       "      <td>RL</td>\n",
       "      <td>95.0</td>\n",
       "      <td>13651</td>\n",
       "      <td>Pave</td>\n",
       "      <td>NaN</td>\n",
       "      <td>IR1</td>\n",
       "      <td>Lvl</td>\n",
       "      <td>AllPub</td>\n",
       "      <td>...</td>\n",
       "      <td>0</td>\n",
       "      <td>NaN</td>\n",
       "      <td>NaN</td>\n",
       "      <td>NaN</td>\n",
       "      <td>0</td>\n",
       "      <td>2</td>\n",
       "      <td>2007</td>\n",
       "      <td>WD</td>\n",
       "      <td>Normal</td>\n",
       "      <td>244000</td>\n",
       "    </tr>\n",
       "    <tr>\n",
       "      <th>4</th>\n",
       "      <td>909452050</td>\n",
       "      <td>80</td>\n",
       "      <td>RL</td>\n",
       "      <td>NaN</td>\n",
       "      <td>13607</td>\n",
       "      <td>Pave</td>\n",
       "      <td>NaN</td>\n",
       "      <td>IR1</td>\n",
       "      <td>Lvl</td>\n",
       "      <td>AllPub</td>\n",
       "      <td>...</td>\n",
       "      <td>0</td>\n",
       "      <td>NaN</td>\n",
       "      <td>NaN</td>\n",
       "      <td>Shed</td>\n",
       "      <td>1500</td>\n",
       "      <td>4</td>\n",
       "      <td>2009</td>\n",
       "      <td>WD</td>\n",
       "      <td>Normal</td>\n",
       "      <td>208000</td>\n",
       "    </tr>\n",
       "  </tbody>\n",
       "</table>\n",
       "<p>5 rows × 81 columns</p>\n",
       "</div>"
      ],
      "text/plain": [
       "         PID  MSSubClass MSZoning  LotFrontage  LotArea Street Alley LotShape  \\\n",
       "0  528120170          20       RL         77.0    10872   Pave   NaN      IR1   \n",
       "1  535179060          20       RL         80.0    11900   Pave   NaN      IR1   \n",
       "2  528138030          60       RL         85.0    11924   Pave   NaN      IR1   \n",
       "3  526355170          20       RL         95.0    13651   Pave   NaN      IR1   \n",
       "4  909452050          80       RL          NaN    13607   Pave   NaN      IR1   \n",
       "\n",
       "  LandContour Utilities    ...     PoolArea PoolQC Fence MiscFeature MiscVal  \\\n",
       "0         Lvl    AllPub    ...            0    NaN   NaN         NaN       0   \n",
       "1         Lvl    AllPub    ...            0    NaN   NaN         NaN       0   \n",
       "2         Lvl    AllPub    ...            0    NaN   NaN         NaN       0   \n",
       "3         Lvl    AllPub    ...            0    NaN   NaN         NaN       0   \n",
       "4         Lvl    AllPub    ...            0    NaN   NaN        Shed    1500   \n",
       "\n",
       "  MoSold YrSold  SaleType  SaleCondition  SalePrice  \n",
       "0      2   2009       WD          Normal     300000  \n",
       "1      6   2008       WD          Normal     166000  \n",
       "2      7   2006       New        Partial     345000  \n",
       "3      2   2007       WD          Normal     244000  \n",
       "4      4   2009       WD          Normal     208000  \n",
       "\n",
       "[5 rows x 81 columns]"
      ]
     },
     "execution_count": 4,
     "metadata": {},
     "output_type": "execute_result"
    }
   ],
   "source": [
    "train_ames.head()"
   ]
  },
  {
   "cell_type": "code",
   "execution_count": 5,
   "metadata": {},
   "outputs": [
    {
     "data": {
      "text/plain": [
       "Index([u'PID', u'MSSubClass', u'MSZoning', u'LotFrontage', u'LotArea',\n",
       "       u'Street', u'Alley', u'LotShape', u'LandContour', u'Utilities',\n",
       "       u'LotConfig', u'LandSlope', u'Neighborhood', u'Condition1',\n",
       "       u'Condition2', u'BldgType', u'HouseStyle', u'OverallQual',\n",
       "       u'OverallCond', u'YearBuilt', u'YearRemodAdd', u'RoofStyle',\n",
       "       u'RoofMatl', u'Exterior1st', u'Exterior2nd', u'MasVnrType',\n",
       "       u'MasVnrArea', u'ExterQual', u'ExterCond', u'Foundation', u'BsmtQual',\n",
       "       u'BsmtCond', u'BsmtExposure', u'BsmtFinType1', u'BsmtFinSF1',\n",
       "       u'BsmtFinType2', u'BsmtFinSF2', u'BsmtUnfSF', u'TotalBsmtSF',\n",
       "       u'Heating', u'HeatingQC', u'CentralAir', u'Electrical', u'X1stFlrSF',\n",
       "       u'X2ndFlrSF', u'LowQualFinSF', u'GrLivArea', u'BsmtFullBath',\n",
       "       u'BsmtHalfBath', u'FullBath', u'HalfBath', u'BedroomAbvGr',\n",
       "       u'KitchenAbvGr', u'KitchenQual', u'TotRmsAbvGrd', u'Functional',\n",
       "       u'Fireplaces', u'FireplaceQu', u'GarageType', u'GarageYrBlt',\n",
       "       u'GarageFinish', u'GarageCars', u'GarageArea', u'GarageQual',\n",
       "       u'GarageCond', u'PavedDrive', u'WoodDeckSF', u'OpenPorchSF',\n",
       "       u'EnclosedPorch', u'X3SsnPorch', u'ScreenPorch', u'PoolArea', u'PoolQC',\n",
       "       u'Fence', u'MiscFeature', u'MiscVal', u'MoSold', u'YrSold', u'SaleType',\n",
       "       u'SaleCondition', u'SalePrice'],\n",
       "      dtype='object')"
      ]
     },
     "execution_count": 5,
     "metadata": {},
     "output_type": "execute_result"
    }
   ],
   "source": [
    "train_ames.columns"
   ]
  },
  {
   "cell_type": "code",
   "execution_count": 6,
   "metadata": {},
   "outputs": [],
   "source": [
    "# My target slice that out first\n",
    "y_train = train_ames['SalePrice']"
   ]
  },
  {
   "cell_type": "code",
   "execution_count": 7,
   "metadata": {},
   "outputs": [
    {
     "name": "stdout",
     "output_type": "stream",
     "text": [
      "[('PID', 0), ('MSSubClass', 0), ('MSZoning', 0), ('LotFrontage', 346), ('LotArea', 0), ('Street', 0), ('Alley', 1918), ('LotShape', 0), ('LandContour', 0), ('Utilities', 0), ('LotConfig', 0), ('LandSlope', 0), ('Neighborhood', 0), ('Condition1', 0), ('Condition2', 0), ('BldgType', 0), ('HouseStyle', 0), ('OverallQual', 0), ('OverallCond', 0), ('YearBuilt', 0), ('YearRemodAdd', 0), ('RoofStyle', 0), ('RoofMatl', 0), ('Exterior1st', 0), ('Exterior2nd', 0), ('MasVnrType', 19), ('MasVnrArea', 19), ('ExterQual', 0), ('ExterCond', 0), ('Foundation', 0), ('BsmtQual', 59), ('BsmtCond', 59), ('BsmtExposure', 60), ('BsmtFinType1', 59), ('BsmtFinSF1', 1), ('BsmtFinType2', 60), ('BsmtFinSF2', 1), ('BsmtUnfSF', 1), ('TotalBsmtSF', 1), ('Heating', 0), ('HeatingQC', 0), ('CentralAir', 0), ('Electrical', 1), ('X1stFlrSF', 0), ('X2ndFlrSF', 0), ('LowQualFinSF', 0), ('GrLivArea', 0), ('BsmtFullBath', 2), ('BsmtHalfBath', 2), ('FullBath', 0), ('HalfBath', 0), ('BedroomAbvGr', 0), ('KitchenAbvGr', 0), ('KitchenQual', 0), ('TotRmsAbvGrd', 0), ('Functional', 0), ('Fireplaces', 0), ('FireplaceQu', 1001), ('GarageType', 117), ('GarageYrBlt', 119), ('GarageFinish', 119), ('GarageCars', 1), ('GarageArea', 1), ('GarageQual', 119), ('GarageCond', 119), ('PavedDrive', 0), ('WoodDeckSF', 0), ('OpenPorchSF', 0), ('EnclosedPorch', 0), ('X3SsnPorch', 0), ('ScreenPorch', 0), ('PoolArea', 0), ('PoolQC', 2042), ('Fence', 1666), ('MiscFeature', 1976), ('MiscVal', 0), ('MoSold', 0), ('YrSold', 0), ('SaleType', 0), ('SaleCondition', 0), ('SalePrice', 0)]\n"
     ]
    }
   ],
   "source": [
    "print zip(train_ames.columns, train_ames.isnull().sum())"
   ]
  },
  {
   "cell_type": "code",
   "execution_count": 8,
   "metadata": {},
   "outputs": [
    {
     "name": "stdout",
     "output_type": "stream",
     "text": [
      "[ 20  60  80 160 120  85 190  30  50  70  45  75  90 180  40 150]\n",
      "[ 60 120  20 160  80  30  90  50  85  45  70  40 180 190  75]\n"
     ]
    }
   ],
   "source": [
    "print train_ames['MSSubClass'].unique() #There is no 150 in the test set?\n",
    "print test_ames['MSSubClass'].unique()"
   ]
  },
  {
   "cell_type": "code",
   "execution_count": 9,
   "metadata": {},
   "outputs": [],
   "source": [
    "train = pd.get_dummies(train_ames['MSSubClass']).drop(columns=150)\n",
    "test = pd.get_dummies(test_ames['MSSubClass'])"
   ]
  },
  {
   "cell_type": "code",
   "execution_count": 10,
   "metadata": {},
   "outputs": [],
   "source": [
    "# These are the columns I will take wholesale as features\n",
    "train[['LotArea', 'GrLivArea', 'TotRmsAbvGrd', 'FullBath', 'HalfBath', 'Fireplaces', 'WoodDeckSF', 'OpenPorchSF','EnclosedPorch', 'X3SsnPorch', 'ScreenPorch', 'PoolArea', 'MoSold', 'YrSold', 'MiscVal', 'OverallQual', 'YearBuilt']] = train_ames[['LotArea', 'GrLivArea', 'TotRmsAbvGrd', 'FullBath', 'HalfBath', 'Fireplaces', 'WoodDeckSF', 'OpenPorchSF', 'EnclosedPorch', 'X3SsnPorch', 'ScreenPorch', 'PoolArea', 'MoSold', 'YrSold', 'MiscVal', 'OverallQual', 'YearBuilt']]\n",
    "test[['LotArea', 'GrLivArea', 'TotRmsAbvGrd', 'FullBath', 'HalfBath', 'Fireplaces', 'WoodDeckSF', 'OpenPorchSF','EnclosedPorch', 'X3SsnPorch', 'ScreenPorch', 'PoolArea', 'MoSold', 'YrSold', 'MiscVal', 'OverallQual', 'YearBuilt']] = test_ames[['LotArea', 'GrLivArea', 'TotRmsAbvGrd', 'FullBath', 'HalfBath', 'Fireplaces', 'WoodDeckSF', 'OpenPorchSF', 'EnclosedPorch', 'X3SsnPorch', 'ScreenPorch', 'PoolArea', 'MoSold', 'YrSold', 'MiscVal', 'OverallQual', 'YearBuilt']]"
   ]
  },
  {
   "cell_type": "code",
   "execution_count": 11,
   "metadata": {},
   "outputs": [
    {
     "data": {
      "text/plain": [
       "<seaborn.axisgrid.JointGrid at 0x7f2b6a608310>"
      ]
     },
     "execution_count": 11,
     "metadata": {},
     "output_type": "execute_result"
    },
    {
     "data": {
      "image/png": "[encoded data removed]",
      "text/plain": [
       "<matplotlib.figure.Figure at 0x7f2b6a608ed0>"
      ]
     },
     "metadata": {},
     "output_type": "display_data"
    }
   ],
   "source": [
    "sns.jointplot(train_ames['TotRmsAbvGrd'], train_ames['SalePrice'])"
   ]
  },
  {
   "cell_type": "code",
   "execution_count": 12,
   "metadata": {},
   "outputs": [
    {
     "name": "stdout",
     "output_type": "stream",
     "text": [
      "['RL' 'RM' 'FV' 'C (all)' 'RH' 'A (agr)' 'I (all)']\n",
      "['RL' 'FV' 'RM' 'RH' 'C (all)']\n"
     ]
    }
   ],
   "source": [
    "print train_ames.MSZoning.unique() # 2 zones not in test set ['A (agr)', 'I (all)']\n",
    "print test_ames.MSZoning.unique()"
   ]
  },
  {
   "cell_type": "code",
   "execution_count": 13,
   "metadata": {},
   "outputs": [],
   "source": [
    "train_zone = pd.get_dummies(train_ames['MSZoning']).drop(columns=['A (agr)', 'I (all)'])\n",
    "train = train.merge(train_zone, right_index=True, left_index=True)\n",
    "test = test.merge(pd.get_dummies(test_ames['MSZoning']), right_index=True, left_index=True)"
   ]
  },
  {
   "cell_type": "code",
   "execution_count": 14,
   "metadata": {},
   "outputs": [],
   "source": [
    "# Not going to include lot frontage because it will be too corralated with the lot shape and lot size"
   ]
  },
  {
   "cell_type": "code",
   "execution_count": 15,
   "metadata": {},
   "outputs": [],
   "source": [
    "train['Street'] = train_ames.Street.apply(lambda x: 1 if x=='Pave' else 0)\n",
    "test['Street'] = test_ames.Street.apply(lambda x: 1 if x=='Pave' else 0)"
   ]
  },
  {
   "cell_type": "code",
   "execution_count": 16,
   "metadata": {},
   "outputs": [],
   "source": [
    "train = train.merge(pd.get_dummies(train_ames['Alley']), left_index=True, right_index=True)\n",
    "test = test.merge(pd.get_dummies(test_ames['Alley']), left_index=True, right_index=True)"
   ]
  },
  {
   "cell_type": "code",
   "execution_count": 17,
   "metadata": {},
   "outputs": [
    {
     "name": "stdout",
     "output_type": "stream",
     "text": [
      "['IR1' 'Reg' 'IR2' 'IR3']\n",
      "['IR1' 'Reg' 'IR2' 'IR3']\n"
     ]
    }
   ],
   "source": [
    "print train_ames['LotShape'].unique()\n",
    "print test_ames['LotShape'].unique()"
   ]
  },
  {
   "cell_type": "code",
   "execution_count": 18,
   "metadata": {},
   "outputs": [],
   "source": [
    "train['LotShape']= train_ames['LotShape'].apply(lambda x: 1 if x == 'IR1' else 2 if x =='IR2' else 3 if x == 'IR3' else 0)\n",
    "test['LotShape']= test_ames['LotShape'].apply(lambda x: 1 if x == 'IR1' else 2 if x =='IR2' else 3 if x == 'IR3' else 0)"
   ]
  },
  {
   "cell_type": "code",
   "execution_count": 19,
   "metadata": {},
   "outputs": [
    {
     "name": "stdout",
     "output_type": "stream",
     "text": [
      "['AllPub' 'NoSeWa' 'NoSewr']\n",
      "['AllPub']\n"
     ]
    }
   ],
   "source": [
    "print train_ames.Utilities.unique()\n",
    "print test_ames.Utilities.unique() #Test set has only ['AllPub']"
   ]
  },
  {
   "cell_type": "code",
   "execution_count": 20,
   "metadata": {},
   "outputs": [],
   "source": [
    "train['Utilities'] = train_ames['Utilities'].apply(lambda x: 1 if x == 'NoSewr' else 2 if x == 'NoSeWa' else 0)\n",
    "test['Utilities'] = test_ames['Utilities'].apply(lambda x: 1 if x == 'NoSewr' else 2 if x == 'NoSeWa' else 0)"
   ]
  },
  {
   "cell_type": "code",
   "execution_count": 21,
   "metadata": {},
   "outputs": [
    {
     "name": "stdout",
     "output_type": "stream",
     "text": [
      "['Inside' 'Corner' 'CulDSac' 'FR2' 'FR3']\n",
      "['Inside' 'Corner' 'CulDSac' 'FR2' 'FR3']\n"
     ]
    }
   ],
   "source": [
    "print train_ames['LotConfig'].unique()\n",
    "print test_ames['LotConfig'].unique()"
   ]
  },
  {
   "cell_type": "code",
   "execution_count": 22,
   "metadata": {},
   "outputs": [],
   "source": [
    "train_lotconfig = pd.get_dummies(train_ames['LotConfig']).drop(columns='Inside')\n",
    "train = train.merge(train_lotconfig, left_index=True, right_index=True)\n",
    "test_lotconfig = pd.get_dummies(test_ames['LotConfig']).drop(columns='Inside')\n",
    "test = test.merge(test_lotconfig, left_index=True, right_index=True)"
   ]
  },
  {
   "cell_type": "code",
   "execution_count": 23,
   "metadata": {},
   "outputs": [
    {
     "name": "stdout",
     "output_type": "stream",
     "text": [
      "['Gtl' 'Mod' 'Sev']\n",
      "['Gtl' 'Mod' 'Sev']\n"
     ]
    }
   ],
   "source": [
    "print train_ames['LandSlope'].unique()\n",
    "print test_ames['LandSlope'].unique()"
   ]
  },
  {
   "cell_type": "code",
   "execution_count": 24,
   "metadata": {},
   "outputs": [],
   "source": [
    "train['LandSlope'] = train_ames['LandSlope'].apply(lambda x: 1 if x == 'Mod' else 2 if x == 'Sev' else 0)\n",
    "test['LandSlope'] = test_ames['LandSlope'].apply(lambda x: 1 if x == 'Mod' else 2 if x == 'Sev' else 0)"
   ]
  },
  {
   "cell_type": "code",
   "execution_count": 25,
   "metadata": {},
   "outputs": [
    {
     "name": "stdout",
     "output_type": "stream",
     "text": [
      "26\n",
      "28\n"
     ]
    }
   ],
   "source": [
    "print len(train_ames['Neighborhood'].unique())\n",
    "print len(test_ames['Neighborhood'].unique()) \n",
    "# two neighborhoods not in train set, ['NoRidge', 'GrnHill'] are on opposit ends of the town, so i'll drop a neighborhood on the outskirts"
   ]
  },
  {
   "cell_type": "code",
   "execution_count": 26,
   "metadata": {},
   "outputs": [],
   "source": [
    "train_hood = pd.get_dummies(train_ames['Neighborhood']).drop(columns='NridgHt')\n",
    "train = train.merge(train_hood, left_index=True, right_index=True)\n",
    "test_hood = pd.get_dummies(test_ames['Neighborhood']).drop(columns=['NoRidge', 'GrnHill', 'NridgHt'])\n",
    "test = test.merge(test_hood, left_index=True, right_index=True)"
   ]
  },
  {
   "cell_type": "code",
   "execution_count": 27,
   "metadata": {},
   "outputs": [
    {
     "name": "stdout",
     "output_type": "stream",
     "text": [
      "['Norm' 'Artery' 'PosA' 'PosN' 'Feedr' 'RRAn' 'RRAe' 'RRNn' 'RRNe']\n",
      "['Norm' 'PosN' 'Feedr' 'RRAe' 'RRNe' 'Artery' 'PosA' 'RRAn' 'RRNn']\n"
     ]
    }
   ],
   "source": [
    "print train_ames['Condition1'].unique()\n",
    "print test_ames['Condition1'].unique()"
   ]
  },
  {
   "cell_type": "code",
   "execution_count": 28,
   "metadata": {},
   "outputs": [],
   "source": [
    "train_cond1 = pd.get_dummies(train_ames['Condition1']).drop(columns='Norm')\n",
    "train = train.merge(train_cond1, left_index=True, right_index=True)\n",
    "test_cond1 = pd.get_dummies(test_ames['Condition1']).drop(columns='Norm')\n",
    "test = test.merge(test_cond1, left_index=True, right_index=True)"
   ]
  },
  {
   "cell_type": "code",
   "execution_count": 29,
   "metadata": {},
   "outputs": [
    {
     "name": "stdout",
     "output_type": "stream",
     "text": [
      "['Norm' 'Artery' 'RRAn' 'Feedr' 'PosN' 'RRAe' 'PosA']\n",
      "['Norm' 'Feedr' 'PosA' 'RRNn']\n"
     ]
    }
   ],
   "source": [
    "print train_ames['Condition2'].unique()\n",
    "print test_ames['Condition2'].unique()"
   ]
  },
  {
   "cell_type": "code",
   "execution_count": 30,
   "metadata": {},
   "outputs": [],
   "source": [
    "train_cond2 = pd.get_dummies(train_ames['Condition2']).drop(columns=['PosN', 'RRAe', 'Artery'])\n",
    "train = train.merge(train_cond2, left_index=True, right_index=True)\n",
    "test_cond2 = pd.get_dummies(test_ames['Condition2'])\n",
    "test = test.merge(test_cond2, left_index=True, right_index=True)"
   ]
  },
  {
   "cell_type": "code",
   "execution_count": 31,
   "metadata": {},
   "outputs": [
    {
     "name": "stdout",
     "output_type": "stream",
     "text": [
      "['1Fam' 'TwnhsE' '2fmCon' 'Twnhs' 'Duplex']\n",
      "['1Fam' 'TwnhsE' 'Twnhs' 'Duplex' '2fmCon']\n"
     ]
    }
   ],
   "source": [
    "print train_ames['BldgType'].unique()\n",
    "print test_ames['BldgType'].unique()"
   ]
  },
  {
   "cell_type": "code",
   "execution_count": 32,
   "metadata": {},
   "outputs": [],
   "source": [
    "train_bldtype = pd.get_dummies(train_ames['BldgType']).drop(columns='1Fam')\n",
    "train = train.merge(train_bldtype, left_index=True, right_index=True)\n",
    "test_bldtype = pd.get_dummies(test_ames['BldgType']).drop(columns='1Fam')\n",
    "test = test.merge(test_bldtype, left_index=True, right_index=True)"
   ]
  },
  {
   "cell_type": "code",
   "execution_count": 33,
   "metadata": {},
   "outputs": [],
   "source": [
    "# skipping house style becasue it is included in the MSSubClass"
   ]
  },
  {
   "cell_type": "code",
   "execution_count": 34,
   "metadata": {},
   "outputs": [],
   "source": [
    "# Bit of feature engenerring here, better quality is expo important\n",
    "train['OverallQual**2'] = train_ames['OverallQual'].apply(lambda x: x**2)\n",
    "test['OverallQual**2'] = test_ames['OverallQual'].apply(lambda x: x**2)"
   ]
  },
  {
   "cell_type": "code",
   "execution_count": 35,
   "metadata": {},
   "outputs": [
    {
     "data": {
      "text/plain": [
       "<seaborn.axisgrid.JointGrid at 0x7f2b68449a10>"
      ]
     },
     "execution_count": 35,
     "metadata": {},
     "output_type": "execute_result"
    },
    {
     "data": {
      "image/png": "[encoded data removed]",
      "text/plain": [
       "<matplotlib.figure.Figure at 0x7f2b68430e50>"
      ]
     },
     "metadata": {},
     "output_type": "display_data"
    }
   ],
   "source": [
    "sns.jointplot(train_ames['OverallQual'], train_ames['SalePrice'])"
   ]
  },
  {
   "cell_type": "code",
   "execution_count": 36,
   "metadata": {},
   "outputs": [],
   "source": [
    "# skipping OverallCond"
   ]
  },
  {
   "cell_type": "code",
   "execution_count": 37,
   "metadata": {},
   "outputs": [
    {
     "data": {
      "text/plain": [
       "<seaborn.axisgrid.JointGrid at 0x7f2b6814dcd0>"
      ]
     },
     "execution_count": 37,
     "metadata": {},
     "output_type": "execute_result"
    },
    {
     "data": {
      "image/png": "[encoded data removed]",
      "text/plain": [
       "<matplotlib.figure.Figure at 0x7f2b6814d9d0>"
      ]
     },
     "metadata": {},
     "output_type": "display_data"
    }
   ],
   "source": [
    "sns.jointplot(train_ames['YearBuilt'], train_ames['SalePrice'])"
   ]
  },
  {
   "cell_type": "code",
   "execution_count": 38,
   "metadata": {},
   "outputs": [],
   "source": [
    "# Bit of feature engenerring here, better quality is expo important\n",
    "train['YearBuilt**2'] = train_ames['YearBuilt'].apply(lambda x: x**2)\n",
    "test['YearBuilt**2'] = test_ames['YearBuilt'].apply(lambda x: x**2)"
   ]
  },
  {
   "cell_type": "code",
   "execution_count": 39,
   "metadata": {},
   "outputs": [],
   "source": [
    "# Did not find anything interesting with Year remoddled"
   ]
  },
  {
   "cell_type": "code",
   "execution_count": 40,
   "metadata": {},
   "outputs": [
    {
     "name": "stdout",
     "output_type": "stream",
     "text": [
      "['VinylSd' 'HdBoard' 'WdShing' 'Plywood' 'BrkFace' 'CemntBd' 'Wd Sdng'\n",
      " 'MetalSd' 'AsbShng' 'Stucco' 'CBlock' 'BrkComm' 'Stone' 'AsphShn']\n",
      "['VinylSd' 'CemntBd' 'HdBoard' 'Plywood' 'MetalSd' 'Wd Sdng' 'WdShing'\n",
      " 'AsphShn' 'BrkFace' 'Stucco' 'AsbShng' 'BrkComm' 'PreCast' 'ImStucc']\n"
     ]
    }
   ],
   "source": [
    "print train_ames.Exterior1st.unique()\n",
    "print test_ames.Exterior1st.unique()"
   ]
  },
  {
   "cell_type": "code",
   "execution_count": 41,
   "metadata": {},
   "outputs": [],
   "source": [
    "train_ex1 = pd.get_dummies(train_ames['Exterior1st']).drop(columns=['CBlock', 'Stone'])\n",
    "train = train.merge(train_ex1, left_index=True, right_index=True)\n",
    "test_ex1 = pd.get_dummies(test_ames['Exterior1st']).drop(columns=['ImStucc', 'PreCast'])\n",
    "test = test.merge(test_ex1, left_index=True, right_index=True)"
   ]
  },
  {
   "cell_type": "code",
   "execution_count": 42,
   "metadata": {},
   "outputs": [
    {
     "name": "stdout",
     "output_type": "stream",
     "text": [
      "['VinylSd' 'HdBoard' 'Wd Shng' 'Plywood' 'BrkFace' 'CmentBd' 'Wd Sdng'\n",
      " 'MetalSd' 'AsbShng' 'Stucco' 'ImStucc' 'Stone' 'Other' 'AsphShn'\n",
      " 'Brk Cmn' 'CBlock']\n",
      "['VinylSd' 'CmentBd' 'HdBoard' 'Wd Shng' 'Plywood' 'MetalSd' 'Wd Sdng'\n",
      " 'AsphShn' 'BrkFace' 'Brk Cmn' 'AsbShng' 'Stucco' 'ImStucc' 'PreCast'\n",
      " 'Stone']\n"
     ]
    }
   ],
   "source": [
    "print train_ames.Exterior2nd.unique() # No ['Other', 'CBblock]\n",
    "print test_ames.Exterior2nd.unique() # No 'PreCast'"
   ]
  },
  {
   "cell_type": "code",
   "execution_count": 43,
   "metadata": {},
   "outputs": [],
   "source": [
    "train_ex2 = pd.get_dummies(train_ames['Exterior2nd']).drop(columns=['Other', 'CBlock'])\n",
    "train = train.merge(train_ex2, left_index=True, right_index=True)\n",
    "test_ex2 = pd.get_dummies(test_ames['Exterior2nd']).drop(columns='PreCast')\n",
    "test = test.merge(test_ex2, left_index=True, right_index=True)"
   ]
  },
  {
   "cell_type": "code",
   "execution_count": 44,
   "metadata": {},
   "outputs": [
    {
     "name": "stdout",
     "output_type": "stream",
     "text": [
      "['Gd' 'TA' 'Ex' 'Fa']\n",
      "['TA' 'Gd' 'Ex' 'Fa']\n"
     ]
    }
   ],
   "source": [
    "print train_ames.ExterQual.unique()\n",
    "print test_ames.ExterQual.unique()"
   ]
  },
  {
   "cell_type": "code",
   "execution_count": 45,
   "metadata": {},
   "outputs": [],
   "source": [
    "train['ExterQual'] = train_ames['ExterQual'].apply(lambda x: 3 if x == 'Ex' else 2 if x == 'Gd' else 1 if x == 'TA' else 0)\n",
    "test['ExterQual'] = test_ames['ExterQual'].apply(lambda x: 3 if x == 'Ex' else 2 if x == 'Gd' else 1 if x == 'TA' else 0)"
   ]
  },
  {
   "cell_type": "code",
   "execution_count": 46,
   "metadata": {},
   "outputs": [
    {
     "name": "stdout",
     "output_type": "stream",
     "text": [
      "['TA' 'Gd' 'Ex' 'Fa' 'Po']\n",
      "['TA' 'Fa' 'Gd' 'Po' 'Ex']\n"
     ]
    }
   ],
   "source": [
    "print train_ames.ExterCond.unique()\n",
    "print test_ames.ExterCond.unique()"
   ]
  },
  {
   "cell_type": "code",
   "execution_count": 47,
   "metadata": {},
   "outputs": [],
   "source": [
    "train['ExterCond'] = train_ames['ExterCond'].apply(lambda x: 4 if x == 'Ex' else 3 if x == 'Gd' else 2 if x == 'TA' else 1 if x =='Fa' else 0)\n",
    "test['ExterCond'] = test_ames['ExterCond'].apply(lambda x: 4 if x == 'Ex' else 3 if x == 'Gd' else 2 if x == 'TA' else 1 if x =='Fa' else 0)"
   ]
  },
  {
   "cell_type": "code",
   "execution_count": 48,
   "metadata": {},
   "outputs": [
    {
     "name": "stdout",
     "output_type": "stream",
     "text": [
      "['PConc' 'CBlock' 'Slab' 'BrkTil' 'Stone' 'Wood']\n",
      "['PConc' 'CBlock' 'BrkTil' 'Slab' 'Stone' 'Wood']\n"
     ]
    }
   ],
   "source": [
    "print train_ames.Foundation.unique()\n",
    "print test_ames.Foundation.unique()"
   ]
  },
  {
   "cell_type": "code",
   "execution_count": 49,
   "metadata": {},
   "outputs": [],
   "source": [
    "train_found = pd.get_dummies(train_ames['Foundation']).drop(columns='Wood')\n",
    "train = train.merge(train_found, left_index=True, right_index=True)\n",
    "test_found = pd.get_dummies(test_ames['Foundation']).drop(columns='Wood')\n",
    "test = test.merge(test_found, left_index=True, right_index=True)"
   ]
  },
  {
   "cell_type": "code",
   "execution_count": 50,
   "metadata": {},
   "outputs": [
    {
     "name": "stdout",
     "output_type": "stream",
     "text": [
      "['Ex' 'TA' 'Gd' nan 'Fa' 'Po']\n",
      "['TA' 'Gd' 'Ex' nan 'Fa']\n"
     ]
    }
   ],
   "source": [
    "print train_ames.BsmtQual.unique()\n",
    "print test_ames.BsmtQual.unique()"
   ]
  },
  {
   "cell_type": "code",
   "execution_count": 51,
   "metadata": {},
   "outputs": [],
   "source": [
    "# The qualitiy category is based on how many inches, so i used that scale insted\n",
    "train['BsmtQual'] = train_ames['BsmtQual'].apply(lambda x: 110 if x == 'Ex' else 100 if x == 'Gd' else 90 if x == 'TA' else 80 if x =='Fa' else 70 if x =='Po' else 0)\n",
    "test['BsmtQual'] = test_ames['BsmtQual'].apply(lambda x: 110 if x == 'Ex' else 100 if x == 'Gd' else 90 if x == 'TA' else 80 if x =='Fa' else 70 if x =='Po' else 0)"
   ]
  },
  {
   "cell_type": "code",
   "execution_count": 52,
   "metadata": {},
   "outputs": [
    {
     "name": "stdout",
     "output_type": "stream",
     "text": [
      "['Gd' 'TA' nan 'Fa' 'Ex' 'Po']\n",
      "['TA' nan 'Fa' 'Gd' 'Ex' 'Po']\n"
     ]
    }
   ],
   "source": [
    "print train_ames.BsmtCond.unique()\n",
    "print test_ames.BsmtCond.unique()"
   ]
  },
  {
   "cell_type": "code",
   "execution_count": 53,
   "metadata": {},
   "outputs": [],
   "source": [
    "train['BsmtCond'] = train_ames['BsmtCond'].apply(lambda x: 5 if x == 'Ex' else 4 if x == 'Gd' else 3 if x == 'TA' else 2 if x =='Fa' else 1 if x =='Po' else 0)\n",
    "test['BsmtCond'] = test_ames['BsmtCond'].apply(lambda x: 5 if x == 'Ex' else 4 if x == 'Gd' else 3 if x == 'TA' else 2 if x =='Fa' else 1 if x =='Po' else 0)"
   ]
  },
  {
   "cell_type": "code",
   "execution_count": 54,
   "metadata": {},
   "outputs": [
    {
     "name": "stdout",
     "output_type": "stream",
     "text": [
      "['GasA' 'GasW' 'Wall' 'Floor' 'Grav' 'OthW']\n",
      "['GasA' 'GasW' 'Grav']\n"
     ]
    }
   ],
   "source": [
    "print train_ames.Heating.unique() # train set has ['Floor', 'OthW', 'Wall']  not in test\n",
    "print test_ames.Heating.unique()"
   ]
  },
  {
   "cell_type": "code",
   "execution_count": 55,
   "metadata": {},
   "outputs": [],
   "source": [
    "train_heat = pd.get_dummies(train_ames['Heating']).drop(columns=['Floor', 'OthW', 'Wall'])\n",
    "train = train.merge(train_heat, left_index=True, right_index=True)\n",
    "test = test.merge(pd.get_dummies(test_ames['Heating']), left_index=True, right_index=True)"
   ]
  },
  {
   "cell_type": "code",
   "execution_count": 56,
   "metadata": {},
   "outputs": [
    {
     "name": "stdout",
     "output_type": "stream",
     "text": [
      "['Ex' 'TA' 'Gd' 'Fa' 'Po']\n",
      "['Ex' 'Gd' 'TA' 'Fa' 'Po']\n"
     ]
    }
   ],
   "source": [
    "print train_ames.HeatingQC.unique()\n",
    "print test_ames.HeatingQC.unique()"
   ]
  },
  {
   "cell_type": "code",
   "execution_count": 57,
   "metadata": {},
   "outputs": [],
   "source": [
    "train['HeatingQC'] = train_ames['HeatingQC'].apply(lambda x: 4 if x == 'Ex' else 3 if x == 'Gd' else 2 if x == 'TA' else 1 if x =='Fa' else 0)\n",
    "test['HeatingQC'] = test_ames['HeatingQC'].apply(lambda x: 4 if x == 'Ex' else 3 if x == 'Gd' else 2 if x == 'TA' else 1 if x =='Fa' else 0)"
   ]
  },
  {
   "cell_type": "code",
   "execution_count": 58,
   "metadata": {},
   "outputs": [],
   "source": [
    "train['CentralAir'] = train_ames['CentralAir'].apply(lambda x: 1 if x == 'Y' else 0)\n",
    "test['CentralAir'] = test_ames['CentralAir'].apply(lambda x: 1 if x == 'Y' else 0)"
   ]
  },
  {
   "cell_type": "code",
   "execution_count": 59,
   "metadata": {},
   "outputs": [
    {
     "name": "stdout",
     "output_type": "stream",
     "text": [
      "['SBrkr' 'FuseA' 'FuseF' nan 'FuseP']\n",
      "['SBrkr' 'FuseA' 'FuseF' 'FuseP' 'Mix']\n"
     ]
    }
   ],
   "source": [
    "print train_ames.Electrical.unique() # np.nan in train? is it just ['Mix']?\n",
    "print test_ames.Electrical.unique() # Test has ['Mix'] not in train"
   ]
  },
  {
   "cell_type": "code",
   "execution_count": 60,
   "metadata": {},
   "outputs": [],
   "source": [
    "train['Electrical'] = train_ames['Electrical'].apply(lambda x: 4 if x == 'SBrkr' else 3 if x == 'FuseA' else 2 if x == 'FuseF' else 1 if x =='FuseP' else 0)\n",
    "test['Electrical'] = test_ames['Electrical'].apply(lambda x: 4 if x == 'SBrkr' else 3 if x == 'FuseA' else 2 if x == 'FuseF' else 1 if x =='FuseP' else 0)"
   ]
  },
  {
   "cell_type": "code",
   "execution_count": 61,
   "metadata": {},
   "outputs": [],
   "source": [
    "train[['BsmtFullBath', 'BsmtHalfBath']] = train_ames[['BsmtFullBath', 'BsmtHalfBath']].fillna(0)\n",
    "test[['BsmtFullBath', 'BsmtHalfBath']] = test_ames[['BsmtFullBath', 'BsmtHalfBath']].fillna(0)"
   ]
  },
  {
   "cell_type": "code",
   "execution_count": 62,
   "metadata": {},
   "outputs": [],
   "source": [
    "train['Room_Factor']= train_ames['TotRmsAbvGrd']*((train_ames['FullBath']+(train_ames['HalfBath']*.1))+(train['BsmtFullBath']+(train['BsmtHalfBath']*.1)))\n",
    "test['Room_Factor']= test_ames['TotRmsAbvGrd']*((test_ames['FullBath']+(test_ames['HalfBath']*.1))+(test['BsmtFullBath']+(test['BsmtHalfBath']*.1)))"
   ]
  },
  {
   "cell_type": "code",
   "execution_count": 63,
   "metadata": {},
   "outputs": [
    {
     "name": "stdout",
     "output_type": "stream",
     "text": [
      "['Ex' 'TA' 'Gd' 'Fa']\n",
      "['Gd' 'TA' 'Ex' 'Fa' 'Po']\n"
     ]
    }
   ],
   "source": [
    "print train_ames.KitchenQual.unique()\n",
    "print test_ames.KitchenQual.unique()"
   ]
  },
  {
   "cell_type": "code",
   "execution_count": 64,
   "metadata": {},
   "outputs": [],
   "source": [
    "train['KitchenQual'] = train_ames['KitchenQual'].apply(lambda x: 4 if x == 'Ex' else 3 if x == 'Gd' else 2 if x == 'TA' else 1 if x == 'Fa' else 0)\n",
    "test['KitchenQual'] = test_ames['KitchenQual'].apply(lambda x: 4 if x == 'Ex' else 3 if x == 'Gd' else 2 if x == 'TA' else 1 if x == 'Fa' else 0)"
   ]
  },
  {
   "cell_type": "code",
   "execution_count": 65,
   "metadata": {},
   "outputs": [
    {
     "name": "stdout",
     "output_type": "stream",
     "text": [
      "['Typ' 'Min1' 'Min2' 'Mod' 'Maj1' 'Maj2' 'Sev' 'Sal']\n",
      "['Typ' 'Mod' 'Min2' 'Min1' 'Maj1' 'Maj2' 'Sal']\n"
     ]
    }
   ],
   "source": [
    "print train_ames.Functional.unique() # train has ['Sev'] not in test\n",
    "print test_ames.Functional.unique()"
   ]
  },
  {
   "cell_type": "code",
   "execution_count": 66,
   "metadata": {},
   "outputs": [],
   "source": [
    "train_fun = pd.get_dummies(train_ames['Functional']).drop(columns='Sev')\n",
    "train = train.merge(train_fun, left_index=True, right_index=True)\n",
    "test_fun = pd.get_dummies(test_ames['Functional'])\n",
    "test = test.merge(test_fun, left_index=True, right_index=True)"
   ]
  },
  {
   "cell_type": "code",
   "execution_count": 67,
   "metadata": {},
   "outputs": [
    {
     "name": "stdout",
     "output_type": "stream",
     "text": [
      "['Gd' 'TA' nan 'Fa' 'Ex' 'Po']\n",
      "['Gd' nan 'TA' 'Ex' 'Fa' 'Po']\n"
     ]
    }
   ],
   "source": [
    "print train_ames.FireplaceQu.unique()\n",
    "print test_ames.FireplaceQu.unique()"
   ]
  },
  {
   "cell_type": "code",
   "execution_count": 68,
   "metadata": {},
   "outputs": [],
   "source": [
    "train['FireplaceQu'] = train_ames['FireplaceQu'].apply(lambda x: 5 if x == 'Ex' else 4 if x == 'Gd' else 3 if x == 'TA' else 2 if x == 'Fa' else 1 if x == 'Po' else 0)\n",
    "test['FireplaceQu'] = test_ames['FireplaceQu'].apply(lambda x: 5 if x == 'Ex' else 4 if x == 'Gd' else 3 if x == 'TA' else 2 if x == 'Fa' else 1 if x == 'Po' else 0)"
   ]
  },
  {
   "cell_type": "code",
   "execution_count": 69,
   "metadata": {},
   "outputs": [
    {
     "name": "stdout",
     "output_type": "stream",
     "text": [
      "['Attchd' 'BuiltIn' 'Detchd' 'CarPort' nan '2Types' 'Basment']\n",
      "['Attchd' 'BuiltIn' 'Detchd' nan 'CarPort' '2Types' 'Basment']\n"
     ]
    }
   ],
   "source": [
    "print train_ames.GarageType.unique()\n",
    "print test_ames.GarageType.unique()"
   ]
  },
  {
   "cell_type": "code",
   "execution_count": 70,
   "metadata": {},
   "outputs": [],
   "source": [
    "train = train.merge(pd.get_dummies(train_ames['GarageType']), left_index=True, right_index=True)\n",
    "test = test.merge(pd.get_dummies(test_ames['GarageType']), left_index=True, right_index=True)"
   ]
  },
  {
   "cell_type": "code",
   "execution_count": 71,
   "metadata": {},
   "outputs": [
    {
     "name": "stdout",
     "output_type": "stream",
     "text": [
      "['Fin' 'RFn' 'Unf' nan]\n",
      "['Fin' 'Unf' 'RFn' nan]\n"
     ]
    }
   ],
   "source": [
    "print train_ames.GarageFinish.unique()\n",
    "print test_ames.GarageFinish.unique()"
   ]
  },
  {
   "cell_type": "code",
   "execution_count": 72,
   "metadata": {},
   "outputs": [],
   "source": [
    "train['GarageFinish'] = train_ames['GarageFinish'].apply(lambda x: 3 if x == 'Fin' else 2 if x == 'RFn' else 1 if x == 'Unf' else 1 if x =='Fa' else 0)\n",
    "test['GarageFinish'] = test_ames['GarageFinish'].apply(lambda x: 3 if x == 'Fin' else 2 if x == 'RFn' else 1 if x == 'Unf' else 1 if x =='Fa' else 0)"
   ]
  },
  {
   "cell_type": "code",
   "execution_count": 73,
   "metadata": {},
   "outputs": [],
   "source": [
    "train['GarageQual'] = train_ames['GarageQual'].apply(lambda x: 5 if x == 'Ex' else 4 if x == 'Gd' else 3 if x == 'TA' else 2 if x == 'Fa' else 1 if x == 'Po' else 0)\n",
    "test['GarageQual'] = test_ames['GarageQual'].apply(lambda x: 5 if x == 'Ex' else 4 if x == 'Gd' else 3 if x == 'TA' else 2 if x == 'Fa' else 1 if x == 'Po' else 0)"
   ]
  },
  {
   "cell_type": "code",
   "execution_count": 74,
   "metadata": {},
   "outputs": [
    {
     "name": "stdout",
     "output_type": "stream",
     "text": [
      "['TA' 'Fa' nan 'Ex' 'Gd' 'Po']\n",
      "['TA' nan 'Fa' 'Ex' 'Po' 'Gd']\n"
     ]
    }
   ],
   "source": [
    "print train_ames.GarageCond.unique()\n",
    "print test_ames.GarageCond.unique()"
   ]
  },
  {
   "cell_type": "code",
   "execution_count": 75,
   "metadata": {},
   "outputs": [],
   "source": [
    "train['GarageCond'] = train_ames['GarageCond'].apply(lambda x: 5 if x == 'Ex' else 4 if x == 'Gd' else 3 if x == 'TA' else 2 if x == 'Fa' else 1 if x == 'Po' else 0)\n",
    "test['GarageCond'] = test_ames['GarageCond'].apply(lambda x: 5 if x == 'Ex' else 4 if x == 'Gd' else 3 if x == 'TA' else 2 if x == 'Fa' else 1 if x == 'Po' else 0)"
   ]
  },
  {
   "cell_type": "code",
   "execution_count": 76,
   "metadata": {},
   "outputs": [],
   "source": [
    "train['GarageCars'] = train_ames['GarageCars'].fillna(0)\n",
    "test['GarageCars'] = test_ames['GarageCars']"
   ]
  },
  {
   "cell_type": "code",
   "execution_count": 77,
   "metadata": {},
   "outputs": [
    {
     "data": {
      "text/plain": [
       "<seaborn.axisgrid.JointGrid at 0x7f2b67ef92d0>"
      ]
     },
     "execution_count": 77,
     "metadata": {},
     "output_type": "execute_result"
    },
    {
     "data": {
      "image/png": "[encoded data removed]",
      "text/plain": [
       "<matplotlib.figure.Figure at 0x7f2b67ef9210>"
      ]
     },
     "metadata": {},
     "output_type": "display_data"
    }
   ],
   "source": [
    "sns.jointplot(train_ames['GarageCars'], train_ames['SalePrice'])"
   ]
  },
  {
   "cell_type": "code",
   "execution_count": 78,
   "metadata": {},
   "outputs": [
    {
     "name": "stdout",
     "output_type": "stream",
     "text": [
      "['Y' 'N' 'P']\n",
      "['Y' 'N' 'P']\n"
     ]
    }
   ],
   "source": [
    "print train_ames.PavedDrive.unique()\n",
    "print test_ames.PavedDrive.unique()"
   ]
  },
  {
   "cell_type": "code",
   "execution_count": 79,
   "metadata": {},
   "outputs": [],
   "source": [
    "train['PavedDrive'] = train_ames['PavedDrive'].apply(lambda x: 1 if x == 'P' else 2 if x == 'Y' else 0)\n",
    "test['PavedDrive'] = test_ames['PavedDrive'].apply(lambda x: 1 if x == 'P' else 2 if x == 'Y' else 0)"
   ]
  },
  {
   "cell_type": "code",
   "execution_count": 80,
   "metadata": {},
   "outputs": [],
   "source": [
    "train['PoolQC'] = train_ames['PoolQC'].apply(lambda x: 5 if x == 'Ex' else 4 if x == 'Gd' else 3 if x == 'TA' else 2 if x == 'Fa' else 1 if x == 'Po' else 0)\n",
    "test['PoolQC'] = test_ames['PoolQC'].apply(lambda x: 5 if x == 'Ex' else 4 if x == 'Gd' else 3 if x == 'TA' else 2 if x == 'Fa' else 1 if x == 'Po' else 0)"
   ]
  },
  {
   "cell_type": "code",
   "execution_count": 81,
   "metadata": {},
   "outputs": [
    {
     "name": "stdout",
     "output_type": "stream",
     "text": [
      "[nan 'GdPrv' 'GdWo' 'MnPrv' 'MnWw']\n",
      "[nan 'MnPrv' 'GdPrv' 'GdWo' 'MnWw']\n"
     ]
    }
   ],
   "source": [
    "print train_ames.Fence.unique()\n",
    "print test_ames.Fence.unique()"
   ]
  },
  {
   "cell_type": "code",
   "execution_count": 82,
   "metadata": {},
   "outputs": [],
   "source": [
    "train['Fence'] = train_ames['Fence'].apply(lambda x: 4 if x == 'GdPrv' else 3 if x == 'MnPrv' else 2 if x == 'GdWo' else 1 if x =='MnWw' else 0)\n",
    "test['Fence'] = test_ames['Fence'].apply(lambda x: 4 if x == 'GdPrv' else 3 if x == 'MnPrv' else 2 if x == 'GdWo' else 1 if x =='MnWw' else 0)"
   ]
  },
  {
   "cell_type": "code",
   "execution_count": 83,
   "metadata": {},
   "outputs": [
    {
     "name": "stdout",
     "output_type": "stream",
     "text": [
      "[nan 'Shed' 'Othr' 'Gar2' 'TenC' 'Elev']\n",
      "[nan 'Shed' 'Othr' 'Gar2']\n"
     ]
    }
   ],
   "source": [
    "print train_ames.MiscFeature.unique() # no ['TenC', 'Elev'] in test set\n",
    "print test_ames.MiscFeature.unique()"
   ]
  },
  {
   "cell_type": "code",
   "execution_count": 84,
   "metadata": {},
   "outputs": [],
   "source": [
    "train_misc = pd.get_dummies(train_ames['MiscFeature'], dummy_na=True).drop(columns=['TenC', 'Elev'])\n",
    "train = train.merge(train_misc, left_index=True, right_index=True)\n",
    "test_misc = pd.get_dummies(test_ames['MiscFeature'], dummy_na=True)\n",
    "test = test.merge(test_misc, left_index=True, right_index=True)"
   ]
  },
  {
   "cell_type": "code",
   "execution_count": 85,
   "metadata": {},
   "outputs": [
    {
     "name": "stdout",
     "output_type": "stream",
     "text": [
      "['WD ' 'New' 'ConLD' 'COD' 'CWD' 'ConLI' 'Oth' 'Con' 'ConLw']\n",
      "['WD ' 'New' 'COD' 'ConLD' 'Con' 'Oth' 'ConLI' 'ConLw' 'CWD' 'VWD']\n"
     ]
    }
   ],
   "source": [
    "print train_ames.SaleType.unique() #1 not in train set ['VWD']\n",
    "print test_ames.SaleType.unique()"
   ]
  },
  {
   "cell_type": "code",
   "execution_count": 86,
   "metadata": {},
   "outputs": [],
   "source": [
    "train_sale = pd.get_dummies(train_ames['SaleType']).drop(columns='Oth')\n",
    "train = train.merge(train_sale, left_index=True, right_index=True)\n",
    "test_sale = pd.get_dummies(test_ames['SaleType']).drop(columns=['Oth', 'VWD'])\n",
    "test = test.merge(test_sale, left_index=True, right_index=True)"
   ]
  },
  {
   "cell_type": "code",
   "execution_count": 87,
   "metadata": {},
   "outputs": [
    {
     "name": "stdout",
     "output_type": "stream",
     "text": [
      "(2051, 168)\n",
      "(879, 168)\n"
     ]
    }
   ],
   "source": [
    "print train.shape\n",
    "print test.shape"
   ]
  },
  {
   "cell_type": "code",
   "execution_count": 88,
   "metadata": {},
   "outputs": [],
   "source": [
    "# With the Train, Test sets build, I scale them and begin modeling\n",
    "ss = StandardScaler()\n",
    "ss.fit(train)\n",
    "X_train = ss.transform(train)\n",
    "X_test = ss.transform(test)"
   ]
  },
  {
   "cell_type": "code",
   "execution_count": 93,
   "metadata": {},
   "outputs": [
    {
     "name": "stdout",
     "output_type": "stream",
     "text": [
      "Fitting 3 folds for each of 10000 candidates, totalling 30000 fits\n"
     ]
    },
    {
     "name": "stderr",
     "output_type": "stream",
     "text": [
      "[Parallel(n_jobs=-1)]: Done 144 tasks      | elapsed:    5.6s\n",
      "[Parallel(n_jobs=-1)]: Done 744 tasks      | elapsed:   28.2s\n",
      "[Parallel(n_jobs=-1)]: Done 1744 tasks      | elapsed:  1.1min\n",
      "[Parallel(n_jobs=-1)]: Done 3144 tasks      | elapsed:  2.0min\n",
      "[Parallel(n_jobs=-1)]: Done 4944 tasks      | elapsed:  3.1min\n",
      "[Parallel(n_jobs=-1)]: Done 7144 tasks      | elapsed:  4.4min\n",
      "[Parallel(n_jobs=-1)]: Done 9744 tasks      | elapsed:  6.1min\n",
      "[Parallel(n_jobs=-1)]: Done 12744 tasks      | elapsed:  7.9min\n",
      "[Parallel(n_jobs=-1)]: Done 16144 tasks      | elapsed: 10.1min\n",
      "[Parallel(n_jobs=-1)]: Done 19944 tasks      | elapsed: 12.4min\n",
      "[Parallel(n_jobs=-1)]: Done 24144 tasks      | elapsed: 15.1min\n",
      "[Parallel(n_jobs=-1)]: Done 28744 tasks      | elapsed: 18.0min\n",
      "[Parallel(n_jobs=-1)]: Done 30000 out of 30000 | elapsed: 18.7min finished\n"
     ]
    },
    {
     "name": "stdout",
     "output_type": "stream",
     "text": [
      "0.8390213843167157\n",
      "{'l1_ratio': 0.9975777997577799, 'alpha': 101.60101601016011}\n"
     ]
    }
   ],
   "source": [
    "en = ElasticNet(max_iter=100000, selection='random')\n",
    "\n",
    "params = {'alpha': np.linspace(0, 10000, 10**6), 'l1_ratio': np.linspace(0, 1, 10**7)}\n",
    "\n",
    "rs_en = RandomizedSearchCV(en, params, n_iter=10**4, cv=3, n_jobs=-1, verbose=1)\n",
    "rs_en.fit(X_train, y_train)\n",
    "print rs_en.best_score_\n",
    "print rs_en.best_params_"
   ]
  },
  {
   "cell_type": "code",
   "execution_count": 98,
   "metadata": {},
   "outputs": [
    {
     "name": "stdout",
     "output_type": "stream",
     "text": [
      "Fitting 3 folds for each of 10000 candidates, totalling 30000 fits\n"
     ]
    },
    {
     "name": "stderr",
     "output_type": "stream",
     "text": [
      "[Parallel(n_jobs=-1)]: Done  76 tasks      | elapsed:    4.8s\n",
      "[Parallel(n_jobs=-1)]: Done 376 tasks      | elapsed:   21.4s\n",
      "[Parallel(n_jobs=-1)]: Done 876 tasks      | elapsed:   54.3s\n",
      "[Parallel(n_jobs=-1)]: Done 1284 tasks      | elapsed:  1.3min\n",
      "[Parallel(n_jobs=-1)]: Done 1734 tasks      | elapsed:  1.9min\n",
      "[Parallel(n_jobs=-1)]: Done 2284 tasks      | elapsed:  2.4min\n",
      "[Parallel(n_jobs=-1)]: Done 2934 tasks      | elapsed:  3.1min\n",
      "[Parallel(n_jobs=-1)]: Done 3684 tasks      | elapsed:  3.8min\n",
      "[Parallel(n_jobs=-1)]: Done 4534 tasks      | elapsed:  4.8min\n",
      "[Parallel(n_jobs=-1)]: Done 5484 tasks      | elapsed:  6.0min\n",
      "[Parallel(n_jobs=-1)]: Done 6534 tasks      | elapsed:  7.1min\n",
      "[Parallel(n_jobs=-1)]: Done 7684 tasks      | elapsed:  8.5min\n",
      "[Parallel(n_jobs=-1)]: Done 8934 tasks      | elapsed:  9.8min\n",
      "[Parallel(n_jobs=-1)]: Done 10284 tasks      | elapsed: 11.2min\n",
      "[Parallel(n_jobs=-1)]: Done 11734 tasks      | elapsed: 12.7min\n",
      "[Parallel(n_jobs=-1)]: Done 13284 tasks      | elapsed: 14.5min\n",
      "[Parallel(n_jobs=-1)]: Done 14934 tasks      | elapsed: 16.4min\n",
      "[Parallel(n_jobs=-1)]: Done 16684 tasks      | elapsed: 18.3min\n",
      "[Parallel(n_jobs=-1)]: Done 18534 tasks      | elapsed: 20.2min\n",
      "[Parallel(n_jobs=-1)]: Done 20484 tasks      | elapsed: 22.3min\n",
      "[Parallel(n_jobs=-1)]: Done 22534 tasks      | elapsed: 24.6min\n",
      "[Parallel(n_jobs=-1)]: Done 24684 tasks      | elapsed: 26.8min\n",
      "[Parallel(n_jobs=-1)]: Done 26934 tasks      | elapsed: 29.3min\n",
      "[Parallel(n_jobs=-1)]: Done 29284 tasks      | elapsed: 31.8min\n",
      "[Parallel(n_jobs=-1)]: Done 30000 out of 30000 | elapsed: 32.5min finished\n"
     ]
    },
    {
     "name": "stdout",
     "output_type": "stream",
     "text": [
      "0.8460282984248884\n",
      "{'alpha': 170.69440170694403}\n"
     ]
    }
   ],
   "source": [
    "las = Lasso(max_iter=100000, selection='random')\n",
    "\n",
    "params_las = {'alpha': np.linspace(0, 10000, 10**8)}\n",
    "\n",
    "rs_las = RandomizedSearchCV(las, params_las, n_iter=10**4, cv=3, n_jobs=-1, verbose=1)\n",
    "rs_las.fit(X_train, y_train)\n",
    "print rs_las.best_score_\n",
    "print rs_las.best_params_"
   ]
  },
  {
   "cell_type": "code",
   "execution_count": 94,
   "metadata": {},
   "outputs": [
    {
     "data": {
      "text/html": [
       "<div>\n",
       "<style scoped>\n",
       "    .dataframe tbody tr th:only-of-type {\n",
       "        vertical-align: middle;\n",
       "    }\n",
       "\n",
       "    .dataframe tbody tr th {\n",
       "        vertical-align: top;\n",
       "    }\n",
       "\n",
       "    .dataframe thead th {\n",
       "        text-align: right;\n",
       "    }\n",
       "</style>\n",
       "<table border=\"1\" class=\"dataframe\">\n",
       "  <thead>\n",
       "    <tr style=\"text-align: right;\">\n",
       "      <th></th>\n",
       "      <th>PID</th>\n",
       "      <th>SalePrice</th>\n",
       "      <th>Usage</th>\n",
       "    </tr>\n",
       "  </thead>\n",
       "  <tbody>\n",
       "    <tr>\n",
       "      <th>0</th>\n",
       "      <td>527105030</td>\n",
       "      <td>195500</td>\n",
       "      <td>Public</td>\n",
       "    </tr>\n",
       "    <tr>\n",
       "      <th>1</th>\n",
       "      <td>527127150</td>\n",
       "      <td>213500</td>\n",
       "      <td>Public</td>\n",
       "    </tr>\n",
       "    <tr>\n",
       "      <th>2</th>\n",
       "      <td>527163010</td>\n",
       "      <td>175900</td>\n",
       "      <td>Public</td>\n",
       "    </tr>\n",
       "    <tr>\n",
       "      <th>3</th>\n",
       "      <td>527216070</td>\n",
       "      <td>538000</td>\n",
       "      <td>Public</td>\n",
       "    </tr>\n",
       "    <tr>\n",
       "      <th>4</th>\n",
       "      <td>527258010</td>\n",
       "      <td>394432</td>\n",
       "      <td>Public</td>\n",
       "    </tr>\n",
       "  </tbody>\n",
       "</table>\n",
       "</div>"
      ],
      "text/plain": [
       "         PID  SalePrice   Usage\n",
       "0  527105030     195500  Public\n",
       "1  527127150     213500  Public\n",
       "2  527163010     175900  Public\n",
       "3  527216070     538000  Public\n",
       "4  527258010     394432  Public"
      ]
     },
     "execution_count": 94,
     "metadata": {},
     "output_type": "execute_result"
    }
   ],
   "source": [
    "# Final Target, released after\n",
    "y_test = pd.read_csv('./datasets/witheld/final_target.csv')\n",
    "y_test.head()"
   ]
  },
  {
   "cell_type": "code",
   "execution_count": 95,
   "metadata": {},
   "outputs": [],
   "source": [
    "y_test = y_test['SalePrice']"
   ]
  },
  {
   "cell_type": "code",
   "execution_count": 97,
   "metadata": {},
   "outputs": [
    {
     "data": {
      "text/plain": [
       "0.8306445880283777"
      ]
     },
     "execution_count": 97,
     "metadata": {},
     "output_type": "execute_result"
    }
   ],
   "source": [
    "rs_en.score(X_test, y_test)"
   ]
  },
  {
   "cell_type": "code",
   "execution_count": 99,
   "metadata": {},
   "outputs": [
    {
     "data": {
      "text/plain": [
       "0.8219803272867737"
      ]
     },
     "execution_count": 99,
     "metadata": {},
     "output_type": "execute_result"
    }
   ],
   "source": [
    "rs_las.score(X_test, y_test)"
   ]
  },
  {
   "cell_type": "code",
   "execution_count": null,
   "metadata": {},
   "outputs": [],
   "source": []
  }
 ],
 "metadata": {
  "kernelspec": {
   "display_name": "Python 2",
   "language": "python",
   "name": "python2"
  },
  "language_info": {
   "codemirror_mode": {
    "name": "ipython",
    "version": 2
   },
   "file_extension": ".py",
   "mimetype": "text/x-python",
   "name": "python",
   "nbconvert_exporter": "python",
   "pygments_lexer": "ipython2",
   "version": "2.7.14"
  }
 },
 "nbformat": 4,
 "nbformat_minor": 2
}
